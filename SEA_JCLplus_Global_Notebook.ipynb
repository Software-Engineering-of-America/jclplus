{
 "cells": [
  {
   "cell_type": "markdown",
   "metadata": {},
   "source": [
    "# SEA JCLplus+ JCL Defects Metrics Analysis Notebook\n",
    "\n",
    "## Description"
   ]
  },
  {
   "cell_type": "markdown",
   "metadata": {},
   "source": [
    "This notebook reads the JCLplus+ Global Record, performs a descriptive analysis of JCL defects and calculate global defects indices.\n"
   ]
  },
  {
   "cell_type": "markdown",
   "metadata": {},
   "source": [
    "<h2>Table of Contents</h2>\n",
    "<div class=\"alert alert-block alert-info\" style=\"margin-top: 20px\">\n",
    "    <ul>\n",
    "          <a href=\"#business\">1. Business Understanding</a><br>\n",
    "          <a href=\"#prep\">2. Data Preparation</a>\n",
    "              <ul>\n",
    "                <li><a href=\"read\">Data Acuisition - JCLplus+ Global Record</a></li>\n",
    "                <li><a href=\"transform\">Perform Transformations</a></li>\n",
    "                <li><a href=\"info\">Records Information</a></li>\n",
    "              </ul>\n",
    "          <a href=\"#business\">3. Analytic Approach</a><br>\n",
    "            <ul>\n",
    "                <li><a href=\"desc\">Descriptive Analysis</a></li>\n",
    "                <li><a href=\"index\">Indices</a></li>\n",
    "                <li><a href=\"visual\">Data Visualization</a></li>\n",
    "                   <ul>\n",
    "                    <li><a href=\"def\">Total Defects by Error Type</a></li>\n",
    "                    <li><a href=\"def_date\">Total Defects by Date</a></li>\n",
    "                   </ul>    \n",
    "              </ul>\n",
    "         \n",
    "                \n",
    "</div>\n",
    "\n",
    "<hr>"
   ]
  },
  {
   "cell_type": "markdown",
   "metadata": {},
   "source": [
    "<h2> 1. Business Understanding</h2>"
   ]
  },
  {
   "cell_type": "markdown",
   "metadata": {},
   "source": [
    "JCLplus+ is equipped with an engine that not only produces Summary defect reports but also generates two typles of records(comma-separated CSV format) with significant information that can be easily imported by any RDBMS, spreadsheet or other reporting system. \n",
    "\n",
    "The global statistics record offers information of the overall quality of the JCL change process and the problems captured by the rules defined in the product.      \n",
    "                                     \t\n",
    "This set of metrics can help to determine a course of action to identify categories and priorities of repetitive problems that may impact the time to delivery of JCL components. These rates can also serve as a baseline for benchmarking purposes and validate the proper adoption of Best Practices procedures. These reports can also be broken down by failure type and by promotion stage within the SCM.\n"
   ]
  },
  {
   "cell_type": "markdown",
   "metadata": {},
   "source": [
    "<h2> 2. Data Preparation</h2>"
   ]
  },
  {
   "cell_type": "code",
   "execution_count": 1,
   "metadata": {},
   "outputs": [],
   "source": [
    "# Importing Pandas Library\n",
    "import pandas as pd\n",
    "\n",
    "#Importing other Libraries\n",
    "import sys, os\n",
    "import numpy as np\n",
    "import matplotlib.pyplot as plt\n",
    "import seaborn as sns\n",
    "%matplotlib inline "
   ]
  },
  {
   "cell_type": "markdown",
   "metadata": {},
   "source": [
    "### _Read JCLplus+ Global File_\n",
    "_Note: Change the path of the JClplus+ Global CSV file_"
   ]
  },
  {
   "cell_type": "code",
   "execution_count": 2,
   "metadata": {},
   "outputs": [],
   "source": [
    "jpg=pd.read_csv('C:\\\\sea\\\\logstash-6.0.1\\\\data\\\\jpglobal.csv',header=None,keep_default_na=False)\n",
    "jpg.columns=['sdate', 'stime', 'edate', 'etime','jobname', 'stepname' , \n",
    "             'smfid', 'rel', 'userid', 'mode', 'rules', 'warn', 'error', 'stmtserr',\n",
    "             'rc', 'ruleds',  'rulename', 'rexxrule', 'exitrule',\n",
    "             'totalmembers', 'totaljobs']"
   ]
  },
  {
   "cell_type": "code",
   "execution_count": 3,
   "metadata": {},
   "outputs": [],
   "source": [
    "jpg.sdate=jpg.sdate.astype('datetime64[ns]')\n",
    "jpg.edate=jpg.edate.astype('datetime64[ns]')"
   ]
  },
  {
   "cell_type": "markdown",
   "metadata": {},
   "source": [
    "### _Exploratory Data Analysis_"
   ]
  },
  {
   "cell_type": "code",
   "execution_count": 4,
   "metadata": {},
   "outputs": [
    {
     "data": {
      "text/html": [
       "<div>\n",
       "<style scoped>\n",
       "    .dataframe tbody tr th:only-of-type {\n",
       "        vertical-align: middle;\n",
       "    }\n",
       "\n",
       "    .dataframe tbody tr th {\n",
       "        vertical-align: top;\n",
       "    }\n",
       "\n",
       "    .dataframe thead th {\n",
       "        text-align: right;\n",
       "    }\n",
       "</style>\n",
       "<table border=\"1\" class=\"dataframe\">\n",
       "  <thead>\n",
       "    <tr style=\"text-align: right;\">\n",
       "      <th></th>\n",
       "      <th>sdate</th>\n",
       "      <th>stime</th>\n",
       "      <th>edate</th>\n",
       "      <th>etime</th>\n",
       "      <th>jobname</th>\n",
       "      <th>stepname</th>\n",
       "      <th>smfid</th>\n",
       "      <th>rel</th>\n",
       "      <th>userid</th>\n",
       "      <th>mode</th>\n",
       "      <th>...</th>\n",
       "      <th>warn</th>\n",
       "      <th>error</th>\n",
       "      <th>stmtserr</th>\n",
       "      <th>rc</th>\n",
       "      <th>ruleds</th>\n",
       "      <th>rulename</th>\n",
       "      <th>rexxrule</th>\n",
       "      <th>exitrule</th>\n",
       "      <th>totalmembers</th>\n",
       "      <th>totaljobs</th>\n",
       "    </tr>\n",
       "  </thead>\n",
       "  <tbody>\n",
       "    <tr>\n",
       "      <td>0</td>\n",
       "      <td>2018-08-09</td>\n",
       "      <td>9:27:09</td>\n",
       "      <td>2018-08-09</td>\n",
       "      <td>9:27:10</td>\n",
       "      <td>SEAUSER</td>\n",
       "      <td>ISPFPROC</td>\n",
       "      <td>JRCM</td>\n",
       "      <td>4.4G</td>\n",
       "      <td>SEAUSER</td>\n",
       "      <td>EDIT</td>\n",
       "      <td>...</td>\n",
       "      <td>4</td>\n",
       "      <td>2</td>\n",
       "      <td>3</td>\n",
       "      <td>0</td>\n",
       "      <td>JRC1.SEAUSER.DEMO.PARMLIB</td>\n",
       "      <td>STATS</td>\n",
       "      <td>**NA**</td>\n",
       "      <td>**NA**</td>\n",
       "      <td>1</td>\n",
       "      <td>1</td>\n",
       "    </tr>\n",
       "    <tr>\n",
       "      <td>1</td>\n",
       "      <td>2018-08-09</td>\n",
       "      <td>9:44:43</td>\n",
       "      <td>2018-08-09</td>\n",
       "      <td>9:44:54</td>\n",
       "      <td>SEAUSERC</td>\n",
       "      <td>JCLPLUS</td>\n",
       "      <td>JRCM</td>\n",
       "      <td>4.4G</td>\n",
       "      <td>SEAUSER</td>\n",
       "      <td>BATCH</td>\n",
       "      <td>...</td>\n",
       "      <td>181</td>\n",
       "      <td>277</td>\n",
       "      <td>267</td>\n",
       "      <td>8</td>\n",
       "      <td>JRC1.SEAUSER.DEMO.PARMLIB</td>\n",
       "      <td>STATS</td>\n",
       "      <td>**NA**</td>\n",
       "      <td>**NA**</td>\n",
       "      <td>1</td>\n",
       "      <td>1</td>\n",
       "    </tr>\n",
       "    <tr>\n",
       "      <td>2</td>\n",
       "      <td>2018-08-09</td>\n",
       "      <td>15:04:33</td>\n",
       "      <td>2018-08-09</td>\n",
       "      <td>15:04:52</td>\n",
       "      <td>SEAUSERB</td>\n",
       "      <td>JCLPLUS</td>\n",
       "      <td>JRCM</td>\n",
       "      <td>4.4G</td>\n",
       "      <td>SEAUSER</td>\n",
       "      <td>BATCH</td>\n",
       "      <td>...</td>\n",
       "      <td>365</td>\n",
       "      <td>392</td>\n",
       "      <td>449</td>\n",
       "      <td>8</td>\n",
       "      <td>JRC1.SEAUSER.DEMO.PARMLIB</td>\n",
       "      <td>STATS</td>\n",
       "      <td>**NA**</td>\n",
       "      <td>**NA**</td>\n",
       "      <td>34</td>\n",
       "      <td>23</td>\n",
       "    </tr>\n",
       "    <tr>\n",
       "      <td>3</td>\n",
       "      <td>2018-08-09</td>\n",
       "      <td>15:08:17</td>\n",
       "      <td>2018-08-09</td>\n",
       "      <td>15:08:17</td>\n",
       "      <td>SEAUSER</td>\n",
       "      <td>ISPFPROC</td>\n",
       "      <td>JRCM</td>\n",
       "      <td>4.4G</td>\n",
       "      <td>SEAUSER</td>\n",
       "      <td>EDIT</td>\n",
       "      <td>...</td>\n",
       "      <td>2</td>\n",
       "      <td>2</td>\n",
       "      <td>3</td>\n",
       "      <td>0</td>\n",
       "      <td>JRC1.SEAUSER.DEMO.PARMLIB</td>\n",
       "      <td>STATS</td>\n",
       "      <td>**NA**</td>\n",
       "      <td>**NA**</td>\n",
       "      <td>1</td>\n",
       "      <td>1</td>\n",
       "    </tr>\n",
       "    <tr>\n",
       "      <td>4</td>\n",
       "      <td>2018-08-09</td>\n",
       "      <td>15:08:35</td>\n",
       "      <td>2018-08-09</td>\n",
       "      <td>15:08:38</td>\n",
       "      <td>SEAUSER</td>\n",
       "      <td>ISPFPROC</td>\n",
       "      <td>JRCM</td>\n",
       "      <td>4.4G</td>\n",
       "      <td>SEAUSER</td>\n",
       "      <td>EDIT</td>\n",
       "      <td>...</td>\n",
       "      <td>2</td>\n",
       "      <td>2</td>\n",
       "      <td>3</td>\n",
       "      <td>0</td>\n",
       "      <td>JRC1.SEAUSER.DEMO.PARMLIB</td>\n",
       "      <td>STATS</td>\n",
       "      <td>**NA**</td>\n",
       "      <td>**NA**</td>\n",
       "      <td>1</td>\n",
       "      <td>1</td>\n",
       "    </tr>\n",
       "  </tbody>\n",
       "</table>\n",
       "<p>5 rows × 21 columns</p>\n",
       "</div>"
      ],
      "text/plain": [
       "       sdate     stime      edate     etime   jobname  stepname smfid   rel  \\\n",
       "0 2018-08-09   9:27:09 2018-08-09   9:27:10  SEAUSER   ISPFPROC  JRCM  4.4G   \n",
       "1 2018-08-09   9:44:43 2018-08-09   9:44:54  SEAUSERC  JCLPLUS   JRCM  4.4G   \n",
       "2 2018-08-09  15:04:33 2018-08-09  15:04:52  SEAUSERB  JCLPLUS   JRCM  4.4G   \n",
       "3 2018-08-09  15:08:17 2018-08-09  15:08:17  SEAUSER   ISPFPROC  JRCM  4.4G   \n",
       "4 2018-08-09  15:08:35 2018-08-09  15:08:38  SEAUSER   ISPFPROC  JRCM  4.4G   \n",
       "\n",
       "     userid   mode  ...  warn  error  stmtserr  rc  \\\n",
       "0  SEAUSER   EDIT   ...     4      2         3   0   \n",
       "1  SEAUSER   BATCH  ...   181    277       267   8   \n",
       "2  SEAUSER   BATCH  ...   365    392       449   8   \n",
       "3  SEAUSER   EDIT   ...     2      2         3   0   \n",
       "4  SEAUSER   EDIT   ...     2      2         3   0   \n",
       "\n",
       "                                         ruleds  rulename  rexxrule  exitrule  \\\n",
       "0  JRC1.SEAUSER.DEMO.PARMLIB                     STATS     **NA**    **NA**     \n",
       "1  JRC1.SEAUSER.DEMO.PARMLIB                     STATS     **NA**    **NA**     \n",
       "2  JRC1.SEAUSER.DEMO.PARMLIB                     STATS     **NA**    **NA**     \n",
       "3  JRC1.SEAUSER.DEMO.PARMLIB                     STATS     **NA**    **NA**     \n",
       "4  JRC1.SEAUSER.DEMO.PARMLIB                     STATS     **NA**    **NA**     \n",
       "\n",
       "  totalmembers  totaljobs  \n",
       "0            1          1  \n",
       "1            1          1  \n",
       "2           34         23  \n",
       "3            1          1  \n",
       "4            1          1  \n",
       "\n",
       "[5 rows x 21 columns]"
      ]
     },
     "execution_count": 4,
     "metadata": {},
     "output_type": "execute_result"
    }
   ],
   "source": [
    "jpg.head()"
   ]
  },
  {
   "cell_type": "code",
   "execution_count": 5,
   "metadata": {
    "scrolled": true
   },
   "outputs": [
    {
     "name": "stdout",
     "output_type": "stream",
     "text": [
      "The Dimension of the JCLplus+ Global Dataframe is (13, 21)\n"
     ]
    }
   ],
   "source": [
    "a=jpg.shape\n",
    "print('The Dimension of the JCLplus+ Global Dataframe is',a)\n"
   ]
  },
  {
   "cell_type": "code",
   "execution_count": 6,
   "metadata": {},
   "outputs": [
    {
     "name": "stdout",
     "output_type": "stream",
     "text": [
      "Data Collected between  2018-08-09 00:00:00  to  2018-10-18 00:00:00\n"
     ]
    }
   ],
   "source": [
    "date_min=jpg['sdate'].min()\n",
    "date_max=jpg['sdate'].max()\n",
    "print('Data Collected between ',date_min,' to ',date_max)"
   ]
  },
  {
   "cell_type": "code",
   "execution_count": 7,
   "metadata": {},
   "outputs": [
    {
     "name": "stdout",
     "output_type": "stream",
     "text": [
      "<class 'pandas.core.frame.DataFrame'>\n",
      "RangeIndex: 13 entries, 0 to 12\n",
      "Data columns (total 21 columns):\n",
      "sdate           13 non-null datetime64[ns]\n",
      "stime           13 non-null object\n",
      "edate           13 non-null datetime64[ns]\n",
      "etime           13 non-null object\n",
      "jobname         13 non-null object\n",
      "stepname        13 non-null object\n",
      "smfid           13 non-null object\n",
      "rel             13 non-null object\n",
      "userid          13 non-null object\n",
      "mode            13 non-null object\n",
      "rules           13 non-null int64\n",
      "warn            13 non-null int64\n",
      "error           13 non-null int64\n",
      "stmtserr        13 non-null int64\n",
      "rc              13 non-null int64\n",
      "ruleds          13 non-null object\n",
      "rulename        13 non-null object\n",
      "rexxrule        13 non-null object\n",
      "exitrule        13 non-null object\n",
      "totalmembers    13 non-null int64\n",
      "totaljobs       13 non-null int64\n",
      "dtypes: datetime64[ns](2), int64(7), object(12)\n",
      "memory usage: 2.3+ KB\n"
     ]
    }
   ],
   "source": [
    "jpg.info()"
   ]
  },
  {
   "cell_type": "markdown",
   "metadata": {},
   "source": [
    "<h2> 2. Analytic Approach</h2>"
   ]
  },
  {
   "cell_type": "code",
   "execution_count": 8,
   "metadata": {},
   "outputs": [
    {
     "data": {
      "text/html": [
       "<div>\n",
       "<style scoped>\n",
       "    .dataframe tbody tr th:only-of-type {\n",
       "        vertical-align: middle;\n",
       "    }\n",
       "\n",
       "    .dataframe tbody tr th {\n",
       "        vertical-align: top;\n",
       "    }\n",
       "\n",
       "    .dataframe thead th {\n",
       "        text-align: right;\n",
       "    }\n",
       "</style>\n",
       "<table border=\"1\" class=\"dataframe\">\n",
       "  <thead>\n",
       "    <tr style=\"text-align: right;\">\n",
       "      <th></th>\n",
       "      <th>rules</th>\n",
       "      <th>error</th>\n",
       "      <th>stmtserr</th>\n",
       "      <th>totalmembers</th>\n",
       "      <th>totaljobs</th>\n",
       "    </tr>\n",
       "  </thead>\n",
       "  <tbody>\n",
       "    <tr>\n",
       "      <td>count</td>\n",
       "      <td>13.000000</td>\n",
       "      <td>13.000000</td>\n",
       "      <td>13.000000</td>\n",
       "      <td>13.000000</td>\n",
       "      <td>13.000000</td>\n",
       "    </tr>\n",
       "    <tr>\n",
       "      <td>mean</td>\n",
       "      <td>93.230769</td>\n",
       "      <td>109.769231</td>\n",
       "      <td>141.461538</td>\n",
       "      <td>7.461538</td>\n",
       "      <td>6.461538</td>\n",
       "    </tr>\n",
       "    <tr>\n",
       "      <td>std</td>\n",
       "      <td>170.283662</td>\n",
       "      <td>146.632280</td>\n",
       "      <td>182.720011</td>\n",
       "      <td>13.351750</td>\n",
       "      <td>11.594650</td>\n",
       "    </tr>\n",
       "    <tr>\n",
       "      <td>min</td>\n",
       "      <td>0.000000</td>\n",
       "      <td>0.000000</td>\n",
       "      <td>2.000000</td>\n",
       "      <td>1.000000</td>\n",
       "      <td>0.000000</td>\n",
       "    </tr>\n",
       "    <tr>\n",
       "      <td>25%</td>\n",
       "      <td>0.000000</td>\n",
       "      <td>2.000000</td>\n",
       "      <td>3.000000</td>\n",
       "      <td>1.000000</td>\n",
       "      <td>1.000000</td>\n",
       "    </tr>\n",
       "    <tr>\n",
       "      <td>50%</td>\n",
       "      <td>4.000000</td>\n",
       "      <td>2.000000</td>\n",
       "      <td>13.000000</td>\n",
       "      <td>1.000000</td>\n",
       "      <td>1.000000</td>\n",
       "    </tr>\n",
       "    <tr>\n",
       "      <td>75%</td>\n",
       "      <td>17.000000</td>\n",
       "      <td>275.000000</td>\n",
       "      <td>291.000000</td>\n",
       "      <td>7.000000</td>\n",
       "      <td>7.000000</td>\n",
       "    </tr>\n",
       "    <tr>\n",
       "      <td>max</td>\n",
       "      <td>414.000000</td>\n",
       "      <td>392.000000</td>\n",
       "      <td>449.000000</td>\n",
       "      <td>40.000000</td>\n",
       "      <td>39.000000</td>\n",
       "    </tr>\n",
       "  </tbody>\n",
       "</table>\n",
       "</div>"
      ],
      "text/plain": [
       "            rules       error    stmtserr  totalmembers  totaljobs\n",
       "count   13.000000   13.000000   13.000000     13.000000  13.000000\n",
       "mean    93.230769  109.769231  141.461538      7.461538   6.461538\n",
       "std    170.283662  146.632280  182.720011     13.351750  11.594650\n",
       "min      0.000000    0.000000    2.000000      1.000000   0.000000\n",
       "25%      0.000000    2.000000    3.000000      1.000000   1.000000\n",
       "50%      4.000000    2.000000   13.000000      1.000000   1.000000\n",
       "75%     17.000000  275.000000  291.000000      7.000000   7.000000\n",
       "max    414.000000  392.000000  449.000000     40.000000  39.000000"
      ]
     },
     "execution_count": 8,
     "metadata": {},
     "output_type": "execute_result"
    }
   ],
   "source": [
    "jpg[['rules', 'error', 'stmtserr',  'totalmembers', 'totaljobs']].describe()"
   ]
  },
  {
   "cell_type": "markdown",
   "metadata": {},
   "source": [
    "### _Global Indices_\n",
    "\n",
    "- At a higher lever these indices provide significant information for major release, application forecast, massive changes, scheduler setups and other events\n",
    "\n",
    "- Detailed record offers more information to categorize defects' source, type and frequency \n"
   ]
  },
  {
   "cell_type": "code",
   "execution_count": 9,
   "metadata": {},
   "outputs": [
    {
     "name": "stdout",
     "output_type": "stream",
     "text": [
      "Index1 - Number of JCL Defects per Job       =  31\n",
      "Index2 - Number of Defect-Stmt per Job       =  21\n",
      "Index3 - Number of Critical-Defects  per Job =  16\n",
      "Index4 - Number of Standards-Defects per Job =  14\n"
     ]
    }
   ],
   "source": [
    "# Calculate and round indices\n",
    "tot_err=jpg['error'].sum()\n",
    "tot_rul=jpg['rules'].sum()\n",
    "tot_job=jpg['totaljobs'].sum()\n",
    "tot_stm=jpg['stmtserr'].sum()\n",
    "tot_war=jpg['warn'].sum()\n",
    "\n",
    "def_job=(tot_err+tot_rul)/tot_job\n",
    "def_job=int(def_job)\n",
    "\n",
    "stm_job=tot_stm/tot_job \n",
    "stm_job=int(stm_job)\n",
    "\n",
    "cri_job=tot_err/tot_job\n",
    "cri_job=int(cri_job)\n",
    "\n",
    "rul_job=tot_rul/tot_job\n",
    "rul_job=int(rul_job)\n",
    "\n",
    "# print Indices\n",
    "print('Index1 - Number of JCL Defects per Job       = ',def_job)\n",
    "print('Index2 - Number of Defect-Stmt per Job       = ',stm_job)\n",
    "print('Index3 - Number of Critical-Defects  per Job = ',cri_job)\n",
    "print('Index4 - Number of Standards-Defects per Job = ',rul_job)"
   ]
  },
  {
   "cell_type": "markdown",
   "metadata": {},
   "source": [
    "### _Total Summary by Date_"
   ]
  },
  {
   "cell_type": "code",
   "execution_count": 10,
   "metadata": {},
   "outputs": [
    {
     "name": "stdout",
     "output_type": "stream",
     "text": [
      "            rules  warn  error  stmtserr  rc  totalmembers  totaljobs\n",
      "sdate                                                                \n",
      "2018-08-09      0   554    675       725  16            38         27\n",
      "2018-08-16    845   392    550       791  16            15         15\n",
      "2018-08-17    355   145    200       316   8            43         41\n",
      "2018-10-18     12     4      2         7   0             1          1\n"
     ]
    }
   ],
   "source": [
    "jpg1=jpg.groupby(['sdate']).agg('sum')\n",
    "print(jpg1)"
   ]
  },
  {
   "cell_type": "code",
   "execution_count": 11,
   "metadata": {},
   "outputs": [
    {
     "name": "stdout",
     "output_type": "stream",
     "text": [
      "-------------------------------------------\n",
      "           error          \n",
      "             min  max  sum\n",
      "sdate                     \n",
      "2018-08-09     2  392  675\n",
      "2018-08-16     0  275  550\n",
      "2018-08-17     2  181  200\n",
      "2018-10-18     2    2    2\n",
      "-------------------------------------------\n",
      "           rules          \n",
      "             min  max  sum\n",
      "sdate                     \n",
      "2018-08-09     0    0    0\n",
      "2018-08-16    17  414  845\n",
      "2018-08-17     0  343  355\n",
      "2018-10-18    12   12   12\n"
     ]
    }
   ],
   "source": [
    "jpg2=jpg.groupby(['sdate']).agg({'error' : ['min','max','sum']})\n",
    "jpg3=jpg.groupby(['sdate']).agg({'rules' : ['min','max','sum']})\n",
    "print('-------------------------------------------')\n",
    "print(jpg2)\n",
    "print('-------------------------------------------')\n",
    "print(jpg3)"
   ]
  },
  {
   "cell_type": "markdown",
   "metadata": {},
   "source": [
    "### _Data Visualization_"
   ]
  },
  {
   "cell_type": "markdown",
   "metadata": {},
   "source": [
    "#### _Number of Defects by Error Type_"
   ]
  },
  {
   "cell_type": "code",
   "execution_count": 12,
   "metadata": {},
   "outputs": [
    {
     "data": {
      "image/png": "[encoded data removed]",
      "text/plain": [
       "<Figure size 640x480 with 1 Axes>"
      ]
     },
     "metadata": {},
     "output_type": "display_data"
    }
   ],
   "source": [
    "import matplotlib.pyplot as plt; plt.rcdefaults()\n",
    "import numpy as np\n",
    "import matplotlib.pyplot as plt\n",
    "\n",
    "#Plot the data:\n",
    "my_colors = 'ryg'  #red, green, blue, black, etc.\n",
    "objects = ('Critical', 'Standards', 'Warning')\n",
    "y_pos = np.arange(len(objects))\n",
    "defects = [tot_err, tot_rul, tot_war]\n",
    "plt.bar(y_pos, defects, align='center', alpha=0.5,width=0.4, color=my_colors)\n",
    "plt.xticks(y_pos, objects)\n",
    "plt.ylabel('Number of Defects')\n",
    "plt.xlabel('Type of Defects')\n",
    "plt.title('JCL Global Defects')\n",
    "\n",
    "plt.show()"
   ]
  },
  {
   "cell_type": "markdown",
   "metadata": {},
   "source": [
    "#### _Number of Defects by Date_"
   ]
  },
  {
   "cell_type": "code",
   "execution_count": 14,
   "metadata": {},
   "outputs": [
    {
     "data": {
      "image/png": "[encoded data removed]",
      "text/plain": [
       "<Figure size 640x480 with 1 Axes>"
      ]
     },
     "metadata": {},
     "output_type": "display_data"
    },
    {
     "name": "stdout",
     "output_type": "stream",
     "text": [
      "            rules  warn  error  stmtserr  rc  totalmembers  totaljobs\n",
      "sdate                                                                \n",
      "2018-08-09      0   554    675       725  16            38         27\n",
      "2018-08-16    845   392    550       791  16            15         15\n",
      "2018-08-17    355   145    200       316   8            43         41\n",
      "2018-10-18     12     4      2         7   0             1          1\n"
     ]
    }
   ],
   "source": [
    "jpg_daily=jpg.groupby('sdate').agg(['sum']).reset_index()\n",
    "\n",
    "jpg_daily.plot(x='sdate', y=(['error','rules']),kind=\"bar\",color=\"ry\",legend=None,alpha=0.5)\n",
    "plt.title('Critical Defects Grouped by Date')\n",
    "plt.ylabel('Number of Defects')\n",
    "plt.xlabel('Dates')\n",
    "plt.legend('error')\n",
    "plt.show()\n",
    "jpg1=jpg.groupby(['sdate']).agg('sum')\n",
    "print(jpg1)"
   ]
  },
  {
   "cell_type": "code",
   "execution_count": null,
   "metadata": {},
   "outputs": [],
   "source": []
  }
 ],
 "metadata": {
  "kernelspec": {
   "display_name": "Python 3",
   "language": "python",
   "name": "python3"
  },
  "language_info": {
   "codemirror_mode": {
    "name": "ipython",
    "version": 3
   },
   "file_extension": ".py",
   "mimetype": "text/x-python",
   "name": "python",
   "nbconvert_exporter": "python",
   "pygments_lexer": "ipython3",
   "version": "3.7.4"
  }
 },
 "nbformat": 4,
 "nbformat_minor": 2
}
