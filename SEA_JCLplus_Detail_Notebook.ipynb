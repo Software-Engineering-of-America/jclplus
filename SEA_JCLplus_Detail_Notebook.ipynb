{
 "cells": [
  {
   "cell_type": "markdown",
   "metadata": {},
   "source": [
    "# SEA JCLplus+ JCL Defects Metrics Analysis Notebook\n",
    "\n",
    "## Description"
   ]
  },
  {
   "cell_type": "markdown",
   "metadata": {},
   "source": [
    "This notebook reads the JCLplus+ Detail Record, performs a descriptive analysis of JCL defects by error type.\n"
   ]
  },
  {
   "cell_type": "markdown",
   "metadata": {},
   "source": [
    "<h2>Table of Contents</h2>\n",
    "<div class=\"alert alert-block alert-info\" style=\"margin-top: 20px\">\n",
    "    <ul>\n",
    "          <a href=\"#business\">1. Business Understanding</a><br>\n",
    "          <a href=\"#prep\">2. Data Preparation</a>\n",
    "              <ul>\n",
    "                <li><a href=\"read\">Data Acuisition - JCLplus+ Global Record</a></li>\n",
    "                <li><a href=\"transform\">Perform Transformations</a></li>\n",
    "                <li><a href=\"info\">Records Information</a></li>\n",
    "              </ul>\n",
    "          <a href=\"#business\">3. Analytic Approach</a><br>\n",
    "            <ul>\n",
    "                <li><a href=\"desc\">Descriptive Analysis</a></li>\n",
    "                <li><a href=\"index\">Indices</a></li>\n",
    "                <li><a href=\"visual\">Data Visualization</a></li>\n",
    "                   <ul>\n",
    "                    <li><a href=\"def\">Total Defects by Error Type</a></li>\n",
    "                    <li><a href=\"def_date\">Total Defects by Date</a></li>\n",
    "                   </ul>    \n",
    "              </ul>\n",
    "         \n",
    "                \n",
    "</div>\n",
    "\n",
    "<hr>"
   ]
  },
  {
   "cell_type": "markdown",
   "metadata": {},
   "source": [
    "<h2> 1. Business Understanding</h2>"
   ]
  },
  {
   "cell_type": "markdown",
   "metadata": {},
   "source": [
    "JCLplus+ is equipped with an engine that not only produces Summary defect reports but also generates two typles of records (comma-separated CSV format) with significant information that can be easily imported by any RDBMS, spreadsheet or other reporting system. \n",
    "\n",
    "Jclplus+ generates a detailed Validation/Simulation metrics, and with this data organizations could more easily put into action practical and low cost actions to attack the ‘low-hanging fruit’, and cleanup recurring JCL defects and other root causes for problems. The goal should be toward delivery of high-quality JCL elements. \n",
    "\n",
    "The global and gdeail records can help to determine a course of action to identify categories and priorities of repetitive problems that may impact the time to delivery of JCL components. These rates can also serve as a baseline for benchmarking purposes and validate the proper adoption of Best Practices procedures. These reports can also be broken down by failure type and by promotion stage within the SCM.\n"
   ]
  },
  {
   "cell_type": "markdown",
   "metadata": {},
   "source": [
    "<h2> 2. Data Preparation</h2>"
   ]
  },
  {
   "cell_type": "code",
   "execution_count": 1,
   "metadata": {},
   "outputs": [],
   "source": [
    "# Importing Pandas Library\n",
    "import pandas as pd\n",
    "\n",
    "#Importing other Libraries\n",
    "import sys, os\n",
    "import numpy as np\n",
    "import matplotlib.pyplot as plt\n",
    "import seaborn as sns\n",
    "%matplotlib inline "
   ]
  },
  {
   "cell_type": "markdown",
   "metadata": {},
   "source": [
    "### _Read JCLplus+ Global File_\n",
    "_Note: \n",
    "Change the path of the JClplus+ Global CSV file. This can also be downloaded from a remote location and saves it to your local drive using urllib module in Python 3_"
   ]
  },
  {
   "cell_type": "code",
   "execution_count": 28,
   "metadata": {},
   "outputs": [],
   "source": [
    "jpd=pd.read_csv('C:\\\\sea\\\\logstash-6.0.1\\\\data\\\\jpdetail.csv',header=None)\n",
    "jpd.columns=['stime', 'sdate' , 'etime', 'edate', 'jpjob' , 'stepname' ,\n",
    "             'smfid' , 'rel', 'userid' , 'mode' , 'rules', 'warn', 'error' , 'stmtserr', 'rcode' ,\n",
    "             'ruleds' , 'rulename', 'rexxrule', 'exitrule' , 'msgrange', 'msgsuf' ,\n",
    "             'msgsev' , 'msgprefix', 'msgnum', 'msgtype' , 'msgtxt' ,'pds' , 'member' , 'jobname','trail']\n"
   ]
  },
  {
   "cell_type": "code",
   "execution_count": 29,
   "metadata": {},
   "outputs": [
    {
     "data": {
      "text/plain": [
       "stime        object\n",
       "sdate        object\n",
       "etime        object\n",
       "edate        object\n",
       "jpjob        object\n",
       "stepname     object\n",
       "smfid        object\n",
       "rel          object\n",
       "userid       object\n",
       "mode         object\n",
       "rules         int64\n",
       "warn          int64\n",
       "error         int64\n",
       "stmtserr      int64\n",
       "rcode         int64\n",
       "ruleds       object\n",
       "rulename     object\n",
       "rexxrule     object\n",
       "exitrule     object\n",
       "msgrange     object\n",
       "msgsuf       object\n",
       "msgsev        int64\n",
       "msgprefix    object\n",
       "msgnum        int64\n",
       "msgtype      object\n",
       "msgtxt       object\n",
       "pds          object\n",
       "member       object\n",
       "jobname      object\n",
       "trail        object\n",
       "dtype: object"
      ]
     },
     "execution_count": 29,
     "metadata": {},
     "output_type": "execute_result"
    }
   ],
   "source": [
    "jpd.dtypes"
   ]
  },
  {
   "cell_type": "code",
   "execution_count": 30,
   "metadata": {},
   "outputs": [],
   "source": [
    "jpd.sdate=jpd.sdate.astype('datetime64[ns]')"
   ]
  },
  {
   "cell_type": "markdown",
   "metadata": {},
   "source": [
    "### _Exploratory Data Analysis_"
   ]
  },
  {
   "cell_type": "code",
   "execution_count": 31,
   "metadata": {},
   "outputs": [
    {
     "data": {
      "text/html": [
       "<div>\n",
       "<style scoped>\n",
       "    .dataframe tbody tr th:only-of-type {\n",
       "        vertical-align: middle;\n",
       "    }\n",
       "\n",
       "    .dataframe tbody tr th {\n",
       "        vertical-align: top;\n",
       "    }\n",
       "\n",
       "    .dataframe thead th {\n",
       "        text-align: right;\n",
       "    }\n",
       "</style>\n",
       "<table border=\"1\" class=\"dataframe\">\n",
       "  <thead>\n",
       "    <tr style=\"text-align: right;\">\n",
       "      <th></th>\n",
       "      <th>stime</th>\n",
       "      <th>sdate</th>\n",
       "      <th>etime</th>\n",
       "      <th>edate</th>\n",
       "      <th>jpjob</th>\n",
       "      <th>stepname</th>\n",
       "      <th>smfid</th>\n",
       "      <th>rel</th>\n",
       "      <th>userid</th>\n",
       "      <th>mode</th>\n",
       "      <th>...</th>\n",
       "      <th>msgsuf</th>\n",
       "      <th>msgsev</th>\n",
       "      <th>msgprefix</th>\n",
       "      <th>msgnum</th>\n",
       "      <th>msgtype</th>\n",
       "      <th>msgtxt</th>\n",
       "      <th>pds</th>\n",
       "      <th>member</th>\n",
       "      <th>jobname</th>\n",
       "      <th>trail</th>\n",
       "    </tr>\n",
       "  </thead>\n",
       "  <tbody>\n",
       "    <tr>\n",
       "      <td>0</td>\n",
       "      <td>09:26:26:00</td>\n",
       "      <td>2018-08-09</td>\n",
       "      <td>09:26:27:00</td>\n",
       "      <td>8/9/2018</td>\n",
       "      <td>SEAUSER</td>\n",
       "      <td>ISPFPROC</td>\n",
       "      <td>JRCM</td>\n",
       "      <td>4.4G</td>\n",
       "      <td>SEAUSER</td>\n",
       "      <td>EDIT</td>\n",
       "      <td>...</td>\n",
       "      <td>J</td>\n",
       "      <td>4</td>\n",
       "      <td>XRP</td>\n",
       "      <td>2412</td>\n",
       "      <td>WARN</td>\n",
       "      <td>DYNALLOC FAILED, UNABLE TO VERIFY MEMBER IN: J...</td>\n",
       "      <td>JRC1.SEAUSER.JCL.CNTL</td>\n",
       "      <td>#ACS#TR0</td>\n",
       "      <td>XI1XXXB</td>\n",
       "      <td></td>\n",
       "    </tr>\n",
       "    <tr>\n",
       "      <td>1</td>\n",
       "      <td>09:26:26:00</td>\n",
       "      <td>2018-08-09</td>\n",
       "      <td>09:26:27:00</td>\n",
       "      <td>8/9/2018</td>\n",
       "      <td>SEAUSER</td>\n",
       "      <td>ISPFPROC</td>\n",
       "      <td>JRCM</td>\n",
       "      <td>4.4G</td>\n",
       "      <td>SEAUSER</td>\n",
       "      <td>EDIT</td>\n",
       "      <td>...</td>\n",
       "      <td>J</td>\n",
       "      <td>4</td>\n",
       "      <td>XRP</td>\n",
       "      <td>2350</td>\n",
       "      <td>WARN</td>\n",
       "      <td>DATASET NOT FOUND: JRC1.SEAUSER.JCL           ...</td>\n",
       "      <td>JRC1.SEAUSER.JCL.CNTL</td>\n",
       "      <td>#ACS#TR0</td>\n",
       "      <td>XI1XXXB</td>\n",
       "      <td></td>\n",
       "    </tr>\n",
       "    <tr>\n",
       "      <td>2</td>\n",
       "      <td>09:26:26:00</td>\n",
       "      <td>2018-08-09</td>\n",
       "      <td>09:26:27:00</td>\n",
       "      <td>8/9/2018</td>\n",
       "      <td>SEAUSER</td>\n",
       "      <td>ISPFPROC</td>\n",
       "      <td>JRCM</td>\n",
       "      <td>4.4G</td>\n",
       "      <td>SEAUSER</td>\n",
       "      <td>EDIT</td>\n",
       "      <td>...</td>\n",
       "      <td>J</td>\n",
       "      <td>4</td>\n",
       "      <td>XRP</td>\n",
       "      <td>2350</td>\n",
       "      <td>WARN</td>\n",
       "      <td>DATASET NOT FOUND: JRC1.SLBJES2A.PLUSPACK.LINK...</td>\n",
       "      <td>JRC1.SEAUSER.JCL.CNTL</td>\n",
       "      <td>#ACS#TR0</td>\n",
       "      <td>XI1XXXB</td>\n",
       "      <td></td>\n",
       "    </tr>\n",
       "    <tr>\n",
       "      <td>3</td>\n",
       "      <td>09:26:26:00</td>\n",
       "      <td>2018-08-09</td>\n",
       "      <td>09:26:27:00</td>\n",
       "      <td>8/9/2018</td>\n",
       "      <td>SEAUSER</td>\n",
       "      <td>ISPFPROC</td>\n",
       "      <td>JRCM</td>\n",
       "      <td>4.4G</td>\n",
       "      <td>SEAUSER</td>\n",
       "      <td>EDIT</td>\n",
       "      <td>...</td>\n",
       "      <td>J</td>\n",
       "      <td>4</td>\n",
       "      <td>XRP</td>\n",
       "      <td>2307</td>\n",
       "      <td>ERROR</td>\n",
       "      <td>NO PARAMETERS ON STATEMENT                    ...</td>\n",
       "      <td>JRC1.SEAUSER.JCL.CNTL</td>\n",
       "      <td>#ACS#TR0</td>\n",
       "      <td>XI1XXXB</td>\n",
       "      <td></td>\n",
       "    </tr>\n",
       "    <tr>\n",
       "      <td>4</td>\n",
       "      <td>09:26:26:00</td>\n",
       "      <td>2018-08-09</td>\n",
       "      <td>09:26:27:00</td>\n",
       "      <td>8/9/2018</td>\n",
       "      <td>SEAUSER</td>\n",
       "      <td>ISPFPROC</td>\n",
       "      <td>JRCM</td>\n",
       "      <td>4.4G</td>\n",
       "      <td>SEAUSER</td>\n",
       "      <td>EDIT</td>\n",
       "      <td>...</td>\n",
       "      <td>J</td>\n",
       "      <td>8</td>\n",
       "      <td>XRP</td>\n",
       "      <td>2114</td>\n",
       "      <td>ERROR</td>\n",
       "      <td>MISSING \"=\" SIGN AFTER \"DSN\" KEYWORD          ...</td>\n",
       "      <td>JRC1.SEAUSER.JCL.CNTL</td>\n",
       "      <td>#ACS#TR0</td>\n",
       "      <td>XI1XXXB</td>\n",
       "      <td></td>\n",
       "    </tr>\n",
       "  </tbody>\n",
       "</table>\n",
       "<p>5 rows × 30 columns</p>\n",
       "</div>"
      ],
      "text/plain": [
       "         stime      sdate        etime     edate     jpjob  stepname smfid  \\\n",
       "0  09:26:26:00 2018-08-09  09:26:27:00  8/9/2018  SEAUSER   ISPFPROC  JRCM   \n",
       "1  09:26:26:00 2018-08-09  09:26:27:00  8/9/2018  SEAUSER   ISPFPROC  JRCM   \n",
       "2  09:26:26:00 2018-08-09  09:26:27:00  8/9/2018  SEAUSER   ISPFPROC  JRCM   \n",
       "3  09:26:26:00 2018-08-09  09:26:27:00  8/9/2018  SEAUSER   ISPFPROC  JRCM   \n",
       "4  09:26:26:00 2018-08-09  09:26:27:00  8/9/2018  SEAUSER   ISPFPROC  JRCM   \n",
       "\n",
       "    rel    userid   mode  ...  msgsuf  msgsev  msgprefix  msgnum  msgtype  \\\n",
       "0  4.4G  SEAUSER   EDIT   ...       J       4        XRP    2412    WARN    \n",
       "1  4.4G  SEAUSER   EDIT   ...       J       4        XRP    2350    WARN    \n",
       "2  4.4G  SEAUSER   EDIT   ...       J       4        XRP    2350    WARN    \n",
       "3  4.4G  SEAUSER   EDIT   ...       J       4        XRP    2307    ERROR   \n",
       "4  4.4G  SEAUSER   EDIT   ...       J       8        XRP    2114    ERROR   \n",
       "\n",
       "                                              msgtxt  \\\n",
       "0  DYNALLOC FAILED, UNABLE TO VERIFY MEMBER IN: J...   \n",
       "1  DATASET NOT FOUND: JRC1.SEAUSER.JCL           ...   \n",
       "2  DATASET NOT FOUND: JRC1.SLBJES2A.PLUSPACK.LINK...   \n",
       "3  NO PARAMETERS ON STATEMENT                    ...   \n",
       "4  MISSING \"=\" SIGN AFTER \"DSN\" KEYWORD          ...   \n",
       "\n",
       "                                            pds    member   jobname  \\\n",
       "0  JRC1.SEAUSER.JCL.CNTL                         #ACS#TR0  XI1XXXB    \n",
       "1  JRC1.SEAUSER.JCL.CNTL                         #ACS#TR0  XI1XXXB    \n",
       "2  JRC1.SEAUSER.JCL.CNTL                         #ACS#TR0  XI1XXXB    \n",
       "3  JRC1.SEAUSER.JCL.CNTL                         #ACS#TR0  XI1XXXB    \n",
       "4  JRC1.SEAUSER.JCL.CNTL                         #ACS#TR0  XI1XXXB    \n",
       "\n",
       "                                  trail  \n",
       "0                                        \n",
       "1                                        \n",
       "2                                        \n",
       "3                                        \n",
       "4                                        \n",
       "\n",
       "[5 rows x 30 columns]"
      ]
     },
     "execution_count": 31,
     "metadata": {},
     "output_type": "execute_result"
    }
   ],
   "source": [
    "jpd.head()"
   ]
  },
  {
   "cell_type": "code",
   "execution_count": 32,
   "metadata": {
    "scrolled": true
   },
   "outputs": [
    {
     "name": "stdout",
     "output_type": "stream",
     "text": [
      "The Dimension of the JCLplus+ Global Dataframe is (3757, 30)\n"
     ]
    }
   ],
   "source": [
    "a=jpd.shape\n",
    "print('The Dimension of the JCLplus+ Global Dataframe is',a)\n"
   ]
  },
  {
   "cell_type": "code",
   "execution_count": 33,
   "metadata": {},
   "outputs": [
    {
     "name": "stdout",
     "output_type": "stream",
     "text": [
      "Data Collected between  2018-08-09 00:00:00  to  2018-10-18 00:00:00\n"
     ]
    }
   ],
   "source": [
    "date_min=jpd['sdate'].min()\n",
    "date_max=jpd['sdate'].max()\n",
    "print('Data Collected between ',date_min,' to ',date_max)"
   ]
  },
  {
   "cell_type": "code",
   "execution_count": 34,
   "metadata": {},
   "outputs": [
    {
     "name": "stdout",
     "output_type": "stream",
     "text": [
      "<class 'pandas.core.frame.DataFrame'>\n",
      "RangeIndex: 3757 entries, 0 to 3756\n",
      "Data columns (total 30 columns):\n",
      "stime        3757 non-null object\n",
      "sdate        3757 non-null datetime64[ns]\n",
      "etime        3757 non-null object\n",
      "edate        3757 non-null object\n",
      "jpjob        3757 non-null object\n",
      "stepname     3757 non-null object\n",
      "smfid        3757 non-null object\n",
      "rel          3757 non-null object\n",
      "userid       3757 non-null object\n",
      "mode         3757 non-null object\n",
      "rules        3757 non-null int64\n",
      "warn         3757 non-null int64\n",
      "error        3757 non-null int64\n",
      "stmtserr     3757 non-null int64\n",
      "rcode        3757 non-null int64\n",
      "ruleds       3757 non-null object\n",
      "rulename     3757 non-null object\n",
      "rexxrule     3757 non-null object\n",
      "exitrule     3757 non-null object\n",
      "msgrange     3757 non-null object\n",
      "msgsuf       3757 non-null object\n",
      "msgsev       3757 non-null int64\n",
      "msgprefix    3757 non-null object\n",
      "msgnum       3757 non-null int64\n",
      "msgtype      3757 non-null object\n",
      "msgtxt       3757 non-null object\n",
      "pds          3757 non-null object\n",
      "member       3757 non-null object\n",
      "jobname      3757 non-null object\n",
      "trail        3757 non-null object\n",
      "dtypes: datetime64[ns](1), int64(7), object(22)\n",
      "memory usage: 880.7+ KB\n"
     ]
    }
   ],
   "source": [
    "jpd.info()"
   ]
  },
  {
   "cell_type": "code",
   "execution_count": 35,
   "metadata": {},
   "outputs": [],
   "source": [
    "jpdn = jpd.filter(['sdate','userid','rulename','rexxrule','msgrange','msgsev',\n",
    "                   'msgprefix','msgnum','msgtype','msgtxt','jobname'], axis=1)"
   ]
  },
  {
   "cell_type": "code",
   "execution_count": 36,
   "metadata": {},
   "outputs": [
    {
     "data": {
      "text/html": [
       "<div>\n",
       "<style scoped>\n",
       "    .dataframe tbody tr th:only-of-type {\n",
       "        vertical-align: middle;\n",
       "    }\n",
       "\n",
       "    .dataframe tbody tr th {\n",
       "        vertical-align: top;\n",
       "    }\n",
       "\n",
       "    .dataframe thead th {\n",
       "        text-align: right;\n",
       "    }\n",
       "</style>\n",
       "<table border=\"1\" class=\"dataframe\">\n",
       "  <thead>\n",
       "    <tr style=\"text-align: right;\">\n",
       "      <th></th>\n",
       "      <th>sdate</th>\n",
       "      <th>userid</th>\n",
       "      <th>rulename</th>\n",
       "      <th>rexxrule</th>\n",
       "      <th>msgrange</th>\n",
       "      <th>msgsev</th>\n",
       "      <th>msgprefix</th>\n",
       "      <th>msgnum</th>\n",
       "      <th>msgtype</th>\n",
       "      <th>msgtxt</th>\n",
       "      <th>jobname</th>\n",
       "    </tr>\n",
       "  </thead>\n",
       "  <tbody>\n",
       "    <tr>\n",
       "      <td>0</td>\n",
       "      <td>2018-08-09</td>\n",
       "      <td>SEAUSER</td>\n",
       "      <td>STATS</td>\n",
       "      <td>**NA**</td>\n",
       "      <td>-</td>\n",
       "      <td>4</td>\n",
       "      <td>XRP</td>\n",
       "      <td>2412</td>\n",
       "      <td>WARN</td>\n",
       "      <td>DYNALLOC FAILED, UNABLE TO VERIFY MEMBER IN: J...</td>\n",
       "      <td>XI1XXXB</td>\n",
       "    </tr>\n",
       "    <tr>\n",
       "      <td>1</td>\n",
       "      <td>2018-08-09</td>\n",
       "      <td>SEAUSER</td>\n",
       "      <td>STATS</td>\n",
       "      <td>**NA**</td>\n",
       "      <td>-</td>\n",
       "      <td>4</td>\n",
       "      <td>XRP</td>\n",
       "      <td>2350</td>\n",
       "      <td>WARN</td>\n",
       "      <td>DATASET NOT FOUND: JRC1.SEAUSER.JCL           ...</td>\n",
       "      <td>XI1XXXB</td>\n",
       "    </tr>\n",
       "    <tr>\n",
       "      <td>2</td>\n",
       "      <td>2018-08-09</td>\n",
       "      <td>SEAUSER</td>\n",
       "      <td>STATS</td>\n",
       "      <td>**NA**</td>\n",
       "      <td>-</td>\n",
       "      <td>4</td>\n",
       "      <td>XRP</td>\n",
       "      <td>2350</td>\n",
       "      <td>WARN</td>\n",
       "      <td>DATASET NOT FOUND: JRC1.SLBJES2A.PLUSPACK.LINK...</td>\n",
       "      <td>XI1XXXB</td>\n",
       "    </tr>\n",
       "    <tr>\n",
       "      <td>3</td>\n",
       "      <td>2018-08-09</td>\n",
       "      <td>SEAUSER</td>\n",
       "      <td>STATS</td>\n",
       "      <td>**NA**</td>\n",
       "      <td>-</td>\n",
       "      <td>4</td>\n",
       "      <td>XRP</td>\n",
       "      <td>2307</td>\n",
       "      <td>ERROR</td>\n",
       "      <td>NO PARAMETERS ON STATEMENT                    ...</td>\n",
       "      <td>XI1XXXB</td>\n",
       "    </tr>\n",
       "    <tr>\n",
       "      <td>4</td>\n",
       "      <td>2018-08-09</td>\n",
       "      <td>SEAUSER</td>\n",
       "      <td>STATS</td>\n",
       "      <td>**NA**</td>\n",
       "      <td>-</td>\n",
       "      <td>8</td>\n",
       "      <td>XRP</td>\n",
       "      <td>2114</td>\n",
       "      <td>ERROR</td>\n",
       "      <td>MISSING \"=\" SIGN AFTER \"DSN\" KEYWORD          ...</td>\n",
       "      <td>XI1XXXB</td>\n",
       "    </tr>\n",
       "  </tbody>\n",
       "</table>\n",
       "</div>"
      ],
      "text/plain": [
       "       sdate    userid  rulename  rexxrule msgrange  msgsev msgprefix  msgnum  \\\n",
       "0 2018-08-09  SEAUSER   STATS     **NA**          -       4       XRP    2412   \n",
       "1 2018-08-09  SEAUSER   STATS     **NA**          -       4       XRP    2350   \n",
       "2 2018-08-09  SEAUSER   STATS     **NA**          -       4       XRP    2350   \n",
       "3 2018-08-09  SEAUSER   STATS     **NA**          -       4       XRP    2307   \n",
       "4 2018-08-09  SEAUSER   STATS     **NA**          -       8       XRP    2114   \n",
       "\n",
       "  msgtype                                             msgtxt   jobname  \n",
       "0   WARN   DYNALLOC FAILED, UNABLE TO VERIFY MEMBER IN: J...  XI1XXXB   \n",
       "1   WARN   DATASET NOT FOUND: JRC1.SEAUSER.JCL           ...  XI1XXXB   \n",
       "2   WARN   DATASET NOT FOUND: JRC1.SLBJES2A.PLUSPACK.LINK...  XI1XXXB   \n",
       "3   ERROR  NO PARAMETERS ON STATEMENT                    ...  XI1XXXB   \n",
       "4   ERROR  MISSING \"=\" SIGN AFTER \"DSN\" KEYWORD          ...  XI1XXXB   "
      ]
     },
     "execution_count": 36,
     "metadata": {},
     "output_type": "execute_result"
    }
   ],
   "source": [
    "jpdn.head()"
   ]
  },
  {
   "cell_type": "markdown",
   "metadata": {},
   "source": [
    "<h2> 2. Analytic Approach</h2>"
   ]
  },
  {
   "cell_type": "markdown",
   "metadata": {},
   "source": [
    "#### _Defects Count by Msg. Severity_ "
   ]
  },
  {
   "cell_type": "code",
   "execution_count": 37,
   "metadata": {},
   "outputs": [
    {
     "name": "stdout",
     "output_type": "stream",
     "text": [
      "msgsev  msgtype\n",
      "0       INFO         18\n",
      "4       ERROR       254\n",
      "        RULES        26\n",
      "        WARN       1098\n",
      "8       ERROR      1164\n",
      "        RULES      1186\n",
      "12      ERROR        11\n",
      "dtype: int64\n"
     ]
    }
   ],
   "source": [
    "jpd1=jpdn.groupby(['msgsev','msgtype']).size()\n",
    "print(jpd1)"
   ]
  },
  {
   "cell_type": "markdown",
   "metadata": {},
   "source": [
    "#### _Top 10 Defects Type_"
   ]
  },
  {
   "cell_type": "code",
   "execution_count": 38,
   "metadata": {},
   "outputs": [
    {
     "data": {
      "text/html": [
       "<div>\n",
       "<style scoped>\n",
       "    .dataframe tbody tr th:only-of-type {\n",
       "        vertical-align: middle;\n",
       "    }\n",
       "\n",
       "    .dataframe tbody tr th {\n",
       "        vertical-align: top;\n",
       "    }\n",
       "\n",
       "    .dataframe thead th {\n",
       "        text-align: right;\n",
       "    }\n",
       "</style>\n",
       "<table border=\"1\" class=\"dataframe\">\n",
       "  <thead>\n",
       "    <tr style=\"text-align: right;\">\n",
       "      <th></th>\n",
       "      <th>msgnum</th>\n",
       "    </tr>\n",
       "  </thead>\n",
       "  <tbody>\n",
       "    <tr>\n",
       "      <td>354</td>\n",
       "      <td>1212</td>\n",
       "    </tr>\n",
       "    <tr>\n",
       "      <td>2350</td>\n",
       "      <td>720</td>\n",
       "    </tr>\n",
       "    <tr>\n",
       "      <td>2328</td>\n",
       "      <td>687</td>\n",
       "    </tr>\n",
       "    <tr>\n",
       "      <td>2423</td>\n",
       "      <td>147</td>\n",
       "    </tr>\n",
       "    <tr>\n",
       "      <td>2307</td>\n",
       "      <td>139</td>\n",
       "    </tr>\n",
       "    <tr>\n",
       "      <td>2324</td>\n",
       "      <td>128</td>\n",
       "    </tr>\n",
       "    <tr>\n",
       "      <td>2405</td>\n",
       "      <td>114</td>\n",
       "    </tr>\n",
       "    <tr>\n",
       "      <td>2244</td>\n",
       "      <td>68</td>\n",
       "    </tr>\n",
       "    <tr>\n",
       "      <td>2357</td>\n",
       "      <td>51</td>\n",
       "    </tr>\n",
       "    <tr>\n",
       "      <td>2412</td>\n",
       "      <td>41</td>\n",
       "    </tr>\n",
       "  </tbody>\n",
       "</table>\n",
       "</div>"
      ],
      "text/plain": [
       "      msgnum\n",
       "354     1212\n",
       "2350     720\n",
       "2328     687\n",
       "2423     147\n",
       "2307     139\n",
       "2324     128\n",
       "2405     114\n",
       "2244      68\n",
       "2357      51\n",
       "2412      41"
      ]
     },
     "execution_count": 38,
     "metadata": {},
     "output_type": "execute_result"
    }
   ],
   "source": [
    "msg_count=jpdn['msgnum'].value_counts().to_frame()\n",
    "msg_count.head(10)"
   ]
  },
  {
   "cell_type": "markdown",
   "metadata": {},
   "source": [
    "<h3>Top Standard Rules Defects</h3>"
   ]
  },
  {
   "cell_type": "code",
   "execution_count": 39,
   "metadata": {},
   "outputs": [
    {
     "data": {
      "text/plain": [
       "msgtxt\n",
       "WK00400 - CONTROL CARD MEMBER NAME IF NOT 7 CHAR LENGTH                                               824\n",
       "WK00103 - INVALID APP CODED IN PGM NAME                                                                64\n",
       "WKJ0005 - INVALID JOBNAME FREQUENCY (8TH POS VALID VALUES ARE D W M Y R)                               57\n",
       "WKJ0001 - Member Name Not equal to Jobname                                                             55\n",
       "WKJ0004 - INVALID JOBNAME STATUS (1ST POS VALID VALUES ARE P Z T)                                      54\n",
       "WKJ0102 - PGM NAME LENGTH IS NOT 8 CHARACTERS LONG                                                     49\n",
       "WKJ0003 - INVALID APP CODED IN JOBNAME (2ND & 3RD POS)                                                 45\n",
       "WK00104 - Invalid PGM usage Code (3rd Pos)                                                             28\n",
       "WKE0101 - JOBNAME HAS MORE  THAN 1 STEP                                                                26\n",
       "WKJ0002 - JOBNAME LENGTH IS NOT 8 CHARACTERS LONG                                                       7\n",
       "WKE0100 -  STEPNAME NOT EQUAL TO JOBNAME FOR PROD JOB                                                   3\n",
       "dtype: int64"
      ]
     },
     "execution_count": 39,
     "metadata": {},
     "output_type": "execute_result"
    }
   ],
   "source": [
    "jpdr=jpdn.loc[jpdn['msgnum'] == 354]\n",
    "jpdr=jpdr.groupby('msgtxt').size()\n",
    "jpdr.sort_values(ascending = False) "
   ]
  },
  {
   "cell_type": "markdown",
   "metadata": {},
   "source": [
    "_Note:_\n",
    "- The standard enforcement message WK00400 frequently flag jobs. \n",
    "- This example shows a lack of Company's standards knowledge when deploying an application\n",
    "- A campaign or an automated procedure should be implemented for developers (shift-left)\n"
   ]
  },
  {
   "cell_type": "markdown",
   "metadata": {},
   "source": [
    "<h3>Top Critical Defects</h3>"
   ]
  },
  {
   "cell_type": "code",
   "execution_count": 40,
   "metadata": {},
   "outputs": [
    {
     "name": "stdout",
     "output_type": "stream",
     "text": [
      "msghdr\n",
      "2328 MISPLACED \"DD\" STATEMENT                                                                              687\n",
      "2324 TARGET OF OVERIDE NOT FOUND                                                                           128\n",
      "2106 MISSING, INVALID OR UNKNOWN STATEMENT TYPE                                                             35\n",
      "2371 ERROR IN OBTAINING GDGLIMIT, RC: 00000008                                                              28\n",
      "2112 INVALID ARGUMENT IN \"ALLOCATION CONSIDERATIONS\" FIELD OF \"SPACE\" KEYWORD: OOSNIP                       20\n",
      "2292 DATACLAS NOT DEFINED - IMSDLOG                                                                         16\n",
      "2292 DATACLAS NOT DEFINED - DC006                                                                            9\n",
      "2120 INVALID KEYWORD PARAMETER: DISL                                                                         9\n",
      "2923 JOB HAS NO STEPS                                                                                        8\n",
      "2103 MEMBER IS NOT JCL, NOT PROCESSED                                                                        7\n",
      "dtype: int64\n"
     ]
    }
   ],
   "source": [
    "jpd.msgnum=jpd.msgnum.astype('str')\n",
    "space = ' '\n",
    "jpde=jpd.filter(['msgsev','msgnum','msgtxt'], axis=1)\n",
    "jpde['msghdr'] = jpde['msgnum'] + space + jpde['msgtxt']\n",
    "jpde=jpde.loc[jpdn['msgnum'] != 354]\n",
    "jpde=jpde.loc[jpdn['msgsev'] > 7]\n",
    "jpde=jpde.groupby('msghdr').size()\n",
    "jpde=jpde.sort_values(ascending = False).head(10)\n",
    "print(jpde)"
   ]
  },
  {
   "cell_type": "markdown",
   "metadata": {},
   "source": [
    "### _Data Visualization_"
   ]
  },
  {
   "cell_type": "markdown",
   "metadata": {},
   "source": [
    "#### _Number of Defects by Error Type_"
   ]
  },
  {
   "cell_type": "code",
   "execution_count": 41,
   "metadata": {},
   "outputs": [
    {
     "name": "stdout",
     "output_type": "stream",
     "text": [
      "msgnum\n",
      "354     1186\n",
      "2328     687\n",
      "2324     128\n",
      "2357      51\n",
      "2106      35\n",
      "2120      34\n",
      "2292      33\n",
      "2371      28\n",
      "3008      24\n",
      "2112      22\n",
      "dtype: int64\n"
     ]
    }
   ],
   "source": [
    "jpdev=jpd.loc[jpdn['msgnum'] != 354]\n",
    "jpdev=jpd.loc[jpdn['msgsev'] > 7]\n",
    "jpdev=jpdev.filter(['msgnum'], axis=1)\n",
    "jpdev=jpdev.groupby('msgnum').size()\n",
    "jpdev=jpdev.sort_values(ascending = False).head(10)\n",
    "print(jpdev)"
   ]
  },
  {
   "cell_type": "code",
   "execution_count": 42,
   "metadata": {},
   "outputs": [
    {
     "data": {
      "image/png": "[encoded data removed]",
      "text/plain": [
       "<Figure size 432x288 with 1 Axes>"
      ]
     },
     "metadata": {
      "needs_background": "light"
     },
     "output_type": "display_data"
    }
   ],
   "source": [
    "#Plot the data:\n",
    "jpdev.plot(x=jpdev,kind=\"bar\",color=\"r\",legend=None,alpha=0.5)\n",
    "plt.ylabel('Number of Defects')\n",
    "plt.xlabel('Type of Defects')\n",
    "plt.title('Total critical Defects')\n",
    "\n",
    "# Annotate arrow\n",
    "plt.annotate('',                      # s: str. will leave it blank for no text\n",
    "             xy=(1, 1000),            # place head of the arrow at point (year 2012 , pop 70)\n",
    "             xytext=(3, 200),         # place base of the arrow at point (year 2008 , pop 20)\n",
    "             xycoords='data',         # will use the coordinate system of the object being annotated \n",
    "             arrowprops=dict(arrowstyle='<-',connectionstyle='arc3',color='blue', lw=2)\n",
    "             )\n",
    "# Annotate Text\n",
    "plt.annotate('Top JCL Defects',       # text to display\n",
    "             xy=(3, 400),             # start the text at at point (year 2008 , pop 30)\n",
    "             rotation=-65,            # based on trial and error to match the arrow\n",
    "             va='bottom',             # want the text to be vertically 'bottom' aligned\n",
    "             ha='right',)              # want the text to be horizontally 'left' algned.\n",
    "\n",
    "plt.show()\n",
    "\n"
   ]
  },
  {
   "cell_type": "code",
   "execution_count": null,
   "metadata": {},
   "outputs": [],
   "source": []
  },
  {
   "cell_type": "code",
   "execution_count": null,
   "metadata": {},
   "outputs": [],
   "source": []
  },
  {
   "cell_type": "code",
   "execution_count": null,
   "metadata": {},
   "outputs": [],
   "source": []
  }
 ],
 "metadata": {
  "kernelspec": {
   "display_name": "Python 3",
   "language": "python",
   "name": "python3"
  },
  "language_info": {
   "codemirror_mode": {
    "name": "ipython",
    "version": 3
   },
   "file_extension": ".py",
   "mimetype": "text/x-python",
   "name": "python",
   "nbconvert_exporter": "python",
   "pygments_lexer": "ipython3",
   "version": "3.7.4"
  }
 },
 "nbformat": 4,
 "nbformat_minor": 2
}
